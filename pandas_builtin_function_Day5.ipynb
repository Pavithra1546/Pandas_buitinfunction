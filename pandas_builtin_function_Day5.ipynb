{
 "cells": [
  {
   "cell_type": "code",
   "execution_count": 1,
   "id": "9163933c",
   "metadata": {},
   "outputs": [],
   "source": [
    "import pandas as pd"
   ]
  },
  {
   "cell_type": "code",
   "execution_count": 2,
   "id": "99f87fbc",
   "metadata": {},
   "outputs": [
    {
     "data": {
      "text/html": [
       "<div>\n",
       "<style scoped>\n",
       "    .dataframe tbody tr th:only-of-type {\n",
       "        vertical-align: middle;\n",
       "    }\n",
       "\n",
       "    .dataframe tbody tr th {\n",
       "        vertical-align: top;\n",
       "    }\n",
       "\n",
       "    .dataframe thead th {\n",
       "        text-align: right;\n",
       "    }\n",
       "</style>\n",
       "<table border=\"1\" class=\"dataframe\">\n",
       "  <thead>\n",
       "    <tr style=\"text-align: right;\">\n",
       "      <th></th>\n",
       "      <th>James</th>\n",
       "      <th>Emily</th>\n",
       "    </tr>\n",
       "  </thead>\n",
       "  <tbody>\n",
       "    <tr>\n",
       "      <th>0</th>\n",
       "      <td>Not good</td>\n",
       "      <td>cook better</td>\n",
       "    </tr>\n",
       "    <tr>\n",
       "      <th>1</th>\n",
       "      <td>Meh</td>\n",
       "      <td>Pretty average</td>\n",
       "    </tr>\n",
       "  </tbody>\n",
       "</table>\n",
       "</div>"
      ],
      "text/plain": [
       "      James           Emily\n",
       "0  Not good     cook better\n",
       "1       Meh  Pretty average"
      ]
     },
     "execution_count": 2,
     "metadata": {},
     "output_type": "execute_result"
    }
   ],
   "source": [
    "df=pd.DataFrame({\"James\":[\"Not good\", \"Meh\"],\"Emily\":[\"cook better\" , \"Pretty average\"]})\n",
    "df"
   ]
  },
  {
   "cell_type": "code",
   "execution_count": 3,
   "id": "c9c63307",
   "metadata": {},
   "outputs": [
    {
     "data": {
      "text/html": [
       "<div>\n",
       "<style scoped>\n",
       "    .dataframe tbody tr th:only-of-type {\n",
       "        vertical-align: middle;\n",
       "    }\n",
       "\n",
       "    .dataframe tbody tr th {\n",
       "        vertical-align: top;\n",
       "    }\n",
       "\n",
       "    .dataframe thead th {\n",
       "        text-align: right;\n",
       "    }\n",
       "</style>\n",
       "<table border=\"1\" class=\"dataframe\">\n",
       "  <thead>\n",
       "    <tr style=\"text-align: right;\">\n",
       "      <th></th>\n",
       "      <th>James</th>\n",
       "      <th>Emily</th>\n",
       "    </tr>\n",
       "  </thead>\n",
       "  <tbody>\n",
       "    <tr>\n",
       "      <th>0</th>\n",
       "      <td>I liked it</td>\n",
       "      <td>It is too sweet</td>\n",
       "    </tr>\n",
       "    <tr>\n",
       "      <th>1</th>\n",
       "      <td>It could use a bit more salt</td>\n",
       "      <td>Yum!</td>\n",
       "    </tr>\n",
       "  </tbody>\n",
       "</table>\n",
       "</div>"
      ],
      "text/plain": [
       "                          James            Emily\n",
       "0                    I liked it  It is too sweet\n",
       "1  It could use a bit more salt             Yum!"
      ]
     },
     "execution_count": 3,
     "metadata": {},
     "output_type": "execute_result"
    }
   ],
   "source": [
    "import pandas as pd\n",
    "survey = pd.DataFrame({'James': ['I liked it', 'It could use a bit more salt'], 'Emily': ['It is too sweet', 'Yum!']})\n",
    "survey"
   ]
  },
  {
   "cell_type": "markdown",
   "id": "87eb9768",
   "metadata": {},
   "source": [
    "# Use the 'append' function\n",
    "append the dataframe"
   ]
  },
  {
   "cell_type": "code",
   "execution_count": 4,
   "id": "e8a736cf",
   "metadata": {},
   "outputs": [
    {
     "data": {
      "text/html": [
       "<div>\n",
       "<style scoped>\n",
       "    .dataframe tbody tr th:only-of-type {\n",
       "        vertical-align: middle;\n",
       "    }\n",
       "\n",
       "    .dataframe tbody tr th {\n",
       "        vertical-align: top;\n",
       "    }\n",
       "\n",
       "    .dataframe thead th {\n",
       "        text-align: right;\n",
       "    }\n",
       "</style>\n",
       "<table border=\"1\" class=\"dataframe\">\n",
       "  <thead>\n",
       "    <tr style=\"text-align: right;\">\n",
       "      <th></th>\n",
       "      <th>James</th>\n",
       "      <th>Emily</th>\n",
       "    </tr>\n",
       "  </thead>\n",
       "  <tbody>\n",
       "    <tr>\n",
       "      <th>0</th>\n",
       "      <td>I liked it</td>\n",
       "      <td>It is too sweet</td>\n",
       "    </tr>\n",
       "    <tr>\n",
       "      <th>1</th>\n",
       "      <td>It could use a bit more salt</td>\n",
       "      <td>Yum!</td>\n",
       "    </tr>\n",
       "    <tr>\n",
       "      <th>2</th>\n",
       "      <td>Not good</td>\n",
       "      <td>cook better</td>\n",
       "    </tr>\n",
       "    <tr>\n",
       "      <th>3</th>\n",
       "      <td>Meh</td>\n",
       "      <td>Pretty average</td>\n",
       "    </tr>\n",
       "  </tbody>\n",
       "</table>\n",
       "</div>"
      ],
      "text/plain": [
       "                          James            Emily\n",
       "0                    I liked it  It is too sweet\n",
       "1  It could use a bit more salt             Yum!\n",
       "2                      Not good      cook better\n",
       "3                           Meh   Pretty average"
      ]
     },
     "execution_count": 4,
     "metadata": {},
     "output_type": "execute_result"
    }
   ],
   "source": [
    "survey=survey.append(df,ignore_index=True)\n",
    "survey"
   ]
  },
  {
   "cell_type": "markdown",
   "id": "4b3d40c2",
   "metadata": {},
   "source": [
    "# Series\n",
    "There are two core objects in pandas, one is dataframe which we have already gone through, the other is called a series.\n",
    "\n",
    "Dataframe, as we have seen, looks like a data table. A series on the other hand is a sequence of data values or sometimes called a list."
   ]
  },
  {
   "cell_type": "code",
   "execution_count": 5,
   "id": "0299eca3",
   "metadata": {},
   "outputs": [
    {
     "data": {
      "text/plain": [
       "0    15\n",
       "1    20\n",
       "2    25\n",
       "3    30\n",
       "4    35\n",
       "dtype: int64"
      ]
     },
     "execution_count": 5,
     "metadata": {},
     "output_type": "execute_result"
    }
   ],
   "source": [
    "pd.Series([15,20,25,30,35])"
   ]
  },
  {
   "cell_type": "markdown",
   "id": "8d6ba9b7",
   "metadata": {},
   "source": [
    "# You can think of series as being a single column within a dataframe and so we can assign a index label to a series just like how we would with a dataframe."
   ]
  },
  {
   "cell_type": "code",
   "execution_count": 8,
   "id": "a4b5e570",
   "metadata": {},
   "outputs": [
    {
     "data": {
      "text/plain": [
       "2018_profit    25\n",
       "2019_profit    30\n",
       "2020_profit    35\n",
       "dtype: int64"
      ]
     },
     "execution_count": 8,
     "metadata": {},
     "output_type": "execute_result"
    }
   ],
   "source": [
    "profit=pd.Series([25,30,35],index=[\"2018_profit\" , \"2019_profit\",\"2020_profit\"])\n",
    "profit"
   ]
  },
  {
   "cell_type": "markdown",
   "id": "1dcd9f3c",
   "metadata": {},
   "source": [
    "# Using this same logic, we can form a dataframe using a list of list i.e. a combination of series. Let's see how we can do that."
   ]
  },
  {
   "cell_type": "code",
   "execution_count": 10,
   "id": "9941248f",
   "metadata": {},
   "outputs": [
    {
     "data": {
      "text/html": [
       "<div>\n",
       "<style scoped>\n",
       "    .dataframe tbody tr th:only-of-type {\n",
       "        vertical-align: middle;\n",
       "    }\n",
       "\n",
       "    .dataframe tbody tr th {\n",
       "        vertical-align: top;\n",
       "    }\n",
       "\n",
       "    .dataframe thead th {\n",
       "        text-align: right;\n",
       "    }\n",
       "</style>\n",
       "<table border=\"1\" class=\"dataframe\">\n",
       "  <thead>\n",
       "    <tr style=\"text-align: right;\">\n",
       "      <th></th>\n",
       "      <th>Customer ID</th>\n",
       "      <th>City</th>\n",
       "      <th>Sales</th>\n",
       "    </tr>\n",
       "  </thead>\n",
       "  <tbody>\n",
       "    <tr>\n",
       "      <th>0</th>\n",
       "      <td>317</td>\n",
       "      <td>Melbourne</td>\n",
       "      <td>28</td>\n",
       "    </tr>\n",
       "    <tr>\n",
       "      <th>1</th>\n",
       "      <td>318</td>\n",
       "      <td>New york</td>\n",
       "      <td>29</td>\n",
       "    </tr>\n",
       "    <tr>\n",
       "      <th>2</th>\n",
       "      <td>319</td>\n",
       "      <td>London</td>\n",
       "      <td>30</td>\n",
       "    </tr>\n",
       "  </tbody>\n",
       "</table>\n",
       "</div>"
      ],
      "text/plain": [
       "   Customer ID       City  Sales\n",
       "0          317  Melbourne     28\n",
       "1          318   New york     29\n",
       "2          319     London     30"
      ]
     },
     "execution_count": 10,
     "metadata": {},
     "output_type": "execute_result"
    }
   ],
   "source": [
    "sales=pd.DataFrame([[317,\"Melbourne\",28],[318,'New york',29],[319,'London',30]],columns=[\"Customer ID\",\"City\",\"Sales\"])\n",
    "sales"
   ]
  },
  {
   "cell_type": "code",
   "execution_count": 12,
   "id": "ef554378",
   "metadata": {},
   "outputs": [
    {
     "data": {
      "text/html": [
       "<div>\n",
       "<style scoped>\n",
       "    .dataframe tbody tr th:only-of-type {\n",
       "        vertical-align: middle;\n",
       "    }\n",
       "\n",
       "    .dataframe tbody tr th {\n",
       "        vertical-align: top;\n",
       "    }\n",
       "\n",
       "    .dataframe thead th {\n",
       "        text-align: right;\n",
       "    }\n",
       "</style>\n",
       "<table border=\"1\" class=\"dataframe\">\n",
       "  <thead>\n",
       "    <tr style=\"text-align: right;\">\n",
       "      <th></th>\n",
       "      <th>S.No</th>\n",
       "      <th>Film Industry</th>\n",
       "      <th>Movie Name</th>\n",
       "      <th>Genre</th>\n",
       "      <th>Movie Release Date</th>\n",
       "      <th>Investment</th>\n",
       "      <th>Investment.1</th>\n",
       "      <th>Profit</th>\n",
       "      <th>Profit.1</th>\n",
       "      <th>Success/Failure</th>\n",
       "      <th>...</th>\n",
       "      <th>Pre-released_song _views</th>\n",
       "      <th>first song released date</th>\n",
       "      <th>YouTube Views</th>\n",
       "      <th>YouTube_song_Views</th>\n",
       "      <th>OTT</th>\n",
       "      <th>Rating_Type</th>\n",
       "      <th>MemeMarketing</th>\n",
       "      <th>Critics</th>\n",
       "      <th>First day Box office collection</th>\n",
       "      <th>First day Box office collection.1</th>\n",
       "    </tr>\n",
       "  </thead>\n",
       "  <tbody>\n",
       "    <tr>\n",
       "      <th>0</th>\n",
       "      <td>1</td>\n",
       "      <td>Kollywood</td>\n",
       "      <td>Vikram</td>\n",
       "      <td>Action</td>\n",
       "      <td>3/6/2022</td>\n",
       "      <td>115 Crore</td>\n",
       "      <td>1150000000</td>\n",
       "      <td>424 Crore</td>\n",
       "      <td>4240000000</td>\n",
       "      <td>1</td>\n",
       "      <td>...</td>\n",
       "      <td>98000000</td>\n",
       "      <td>15-05-2022</td>\n",
       "      <td>50 Million</td>\n",
       "      <td>50000000</td>\n",
       "      <td>Netflix</td>\n",
       "      <td>Good</td>\n",
       "      <td>Yes</td>\n",
       "      <td>Good</td>\n",
       "      <td>33 Crore</td>\n",
       "      <td>330000000</td>\n",
       "    </tr>\n",
       "    <tr>\n",
       "      <th>1</th>\n",
       "      <td>2</td>\n",
       "      <td>Kollywood</td>\n",
       "      <td>Sardar</td>\n",
       "      <td>Action</td>\n",
       "      <td>21-10-2022</td>\n",
       "      <td>40 Crore</td>\n",
       "      <td>400000000</td>\n",
       "      <td>85 Crore</td>\n",
       "      <td>850000000</td>\n",
       "      <td>1</td>\n",
       "      <td>...</td>\n",
       "      <td>4000000</td>\n",
       "      <td>18-11-2022</td>\n",
       "      <td>11 Million</td>\n",
       "      <td>11000000</td>\n",
       "      <td>Netflix</td>\n",
       "      <td>Good</td>\n",
       "      <td>Yes</td>\n",
       "      <td>Good</td>\n",
       "      <td>3.7 Crore</td>\n",
       "      <td>37000000</td>\n",
       "    </tr>\n",
       "    <tr>\n",
       "      <th>2</th>\n",
       "      <td>3</td>\n",
       "      <td>Kollywood</td>\n",
       "      <td>Beast</td>\n",
       "      <td>Action</td>\n",
       "      <td>13-04-2022</td>\n",
       "      <td>130 Crore</td>\n",
       "      <td>1300000000</td>\n",
       "      <td>227 Crore</td>\n",
       "      <td>2270000000</td>\n",
       "      <td>1</td>\n",
       "      <td>...</td>\n",
       "      <td>33000000</td>\n",
       "      <td>14-02-2022</td>\n",
       "      <td>48 Million</td>\n",
       "      <td>48000000</td>\n",
       "      <td>Netflix</td>\n",
       "      <td>Average</td>\n",
       "      <td>Yes</td>\n",
       "      <td>Average</td>\n",
       "      <td>40 Crore</td>\n",
       "      <td>400000000</td>\n",
       "    </tr>\n",
       "    <tr>\n",
       "      <th>3</th>\n",
       "      <td>4</td>\n",
       "      <td>Kollywood</td>\n",
       "      <td>Pizza</td>\n",
       "      <td>Horror</td>\n",
       "      <td>19-10-2012</td>\n",
       "      <td>1.5 Crore</td>\n",
       "      <td>15000000</td>\n",
       "      <td>8 Crore</td>\n",
       "      <td>80000000</td>\n",
       "      <td>1</td>\n",
       "      <td>...</td>\n",
       "      <td>176000</td>\n",
       "      <td>6/9/2012</td>\n",
       "      <td>250 Thousand</td>\n",
       "      <td>250000</td>\n",
       "      <td>Netflix</td>\n",
       "      <td>Good</td>\n",
       "      <td>No</td>\n",
       "      <td>Good</td>\n",
       "      <td>1.5 Crore</td>\n",
       "      <td>15000000</td>\n",
       "    </tr>\n",
       "    <tr>\n",
       "      <th>4</th>\n",
       "      <td>5</td>\n",
       "      <td>Kollywood</td>\n",
       "      <td>Naduvula Konjum Pakkatha kanum</td>\n",
       "      <td>Comedy</td>\n",
       "      <td>30-11-2012</td>\n",
       "      <td>0.8 Crore</td>\n",
       "      <td>8000000</td>\n",
       "      <td>18 Crore</td>\n",
       "      <td>180000000</td>\n",
       "      <td>1</td>\n",
       "      <td>...</td>\n",
       "      <td>49000</td>\n",
       "      <td>27-06-2012</td>\n",
       "      <td>30 Thousand</td>\n",
       "      <td>30000</td>\n",
       "      <td>Netflix</td>\n",
       "      <td>Good</td>\n",
       "      <td>No</td>\n",
       "      <td>Good</td>\n",
       "      <td>5 Crore</td>\n",
       "      <td>50000000</td>\n",
       "    </tr>\n",
       "  </tbody>\n",
       "</table>\n",
       "<p>5 rows × 37 columns</p>\n",
       "</div>"
      ],
      "text/plain": [
       "   S.No Film Industry                      Movie Name   Genre  \\\n",
       "0     1     Kollywood                          Vikram  Action   \n",
       "1     2     Kollywood                          Sardar  Action   \n",
       "2     3     Kollywood                           Beast  Action   \n",
       "3     4     Kollywood                           Pizza  Horror   \n",
       "4     5     Kollywood  Naduvula Konjum Pakkatha kanum  Comedy   \n",
       "\n",
       "  Movie Release Date Investment  Investment.1     Profit    Profit.1  \\\n",
       "0           3/6/2022  115 Crore    1150000000  424 Crore  4240000000   \n",
       "1         21-10-2022   40 Crore     400000000   85 Crore   850000000   \n",
       "2         13-04-2022  130 Crore    1300000000  227 Crore  2270000000   \n",
       "3         19-10-2012  1.5 Crore      15000000    8 Crore    80000000   \n",
       "4         30-11-2012  0.8 Crore       8000000   18 Crore   180000000   \n",
       "\n",
       "   Success/Failure  ...  Pre-released_song _views first song released date  \\\n",
       "0                1  ...                  98000000               15-05-2022   \n",
       "1                1  ...                   4000000               18-11-2022   \n",
       "2                1  ...                  33000000               14-02-2022   \n",
       "3                1  ...                    176000                 6/9/2012   \n",
       "4                1  ...                     49000               27-06-2012   \n",
       "\n",
       "  YouTube Views  YouTube_song_Views       OTT  Rating_Type  MemeMarketing  \\\n",
       "0    50 Million            50000000  Netflix          Good            Yes   \n",
       "1    11 Million            11000000  Netflix          Good            Yes   \n",
       "2    48 Million            48000000  Netflix       Average            Yes   \n",
       "3  250 Thousand              250000   Netflix         Good             No   \n",
       "4   30 Thousand               30000   Netflix         Good             No   \n",
       "\n",
       "   Critics  First day Box office collection  First day Box office collection.1  \n",
       "0     Good                         33 Crore                          330000000  \n",
       "1     Good                        3.7 Crore                           37000000  \n",
       "2  Average                         40 Crore                          400000000  \n",
       "3     Good                        1.5 Crore                           15000000  \n",
       "4     Good                          5 Crore                           50000000  \n",
       "\n",
       "[5 rows x 37 columns]"
      ]
     },
     "execution_count": 12,
     "metadata": {},
     "output_type": "execute_result"
    }
   ],
   "source": [
    "import pandas as pd \n",
    "dataset=pd.read_csv(\"Hit or Flop movie Dataset.csv\")\n",
    "dataset.head()"
   ]
  },
  {
   "cell_type": "markdown",
   "id": "65659882",
   "metadata": {},
   "source": [
    "# Summary functions\n",
    "Summary functions like describe and info give a high-level summary of our data."
   ]
  },
  {
   "cell_type": "markdown",
   "id": "046f8e4c",
   "metadata": {},
   "source": [
    "# Describe function on numerical variable\n"
   ]
  },
  {
   "cell_type": "code",
   "execution_count": 13,
   "id": "4e65cc87",
   "metadata": {},
   "outputs": [
    {
     "data": {
      "text/plain": [
       "count    5.000000e+01\n",
       "mean     2.974226e+07\n",
       "std      6.375571e+07\n",
       "min      1.290000e+04\n",
       "25%      3.050000e+06\n",
       "50%      9.150000e+06\n",
       "75%      2.975000e+07\n",
       "max      4.060000e+08\n",
       "Name: YouTube_song_Views, dtype: float64"
      ]
     },
     "execution_count": 13,
     "metadata": {},
     "output_type": "execute_result"
    }
   ],
   "source": [
    "dataset[\"YouTube_song_Views\"].describe()"
   ]
  },
  {
   "cell_type": "markdown",
   "id": "fe2e627b",
   "metadata": {},
   "source": [
    "# Describe function on text variable\n"
   ]
  },
  {
   "cell_type": "code",
   "execution_count": 14,
   "id": "683cbee3",
   "metadata": {},
   "outputs": [
    {
     "data": {
      "text/plain": [
       "count      50\n",
       "unique      2\n",
       "top       Yes\n",
       "freq       37\n",
       "Name: MemeMarketing, dtype: object"
      ]
     },
     "execution_count": 14,
     "metadata": {},
     "output_type": "execute_result"
    }
   ],
   "source": [
    "dataset[\"MemeMarketing\"].describe()"
   ]
  },
  {
   "cell_type": "markdown",
   "id": "60cfec71",
   "metadata": {},
   "source": [
    "# Unique and value counts function"
   ]
  },
  {
   "cell_type": "markdown",
   "id": "c01137cc",
   "metadata": {},
   "source": [
    "# How many unique Genre values are there?"
   ]
  },
  {
   "cell_type": "code",
   "execution_count": 15,
   "id": "1d853686",
   "metadata": {},
   "outputs": [
    {
     "data": {
      "text/plain": [
       "5"
      ]
     },
     "execution_count": 15,
     "metadata": {},
     "output_type": "execute_result"
    }
   ],
   "source": [
    "dataset[\"Genre\"].nunique()"
   ]
  },
  {
   "cell_type": "markdown",
   "id": "b16cf202",
   "metadata": {},
   "source": [
    "# What are the unique genre values?\n"
   ]
  },
  {
   "cell_type": "code",
   "execution_count": 17,
   "id": "efcd8f99",
   "metadata": {},
   "outputs": [
    {
     "data": {
      "text/plain": [
       "array(['Action', 'Horror', 'Comedy', 'Drama', 'Superhero'], dtype=object)"
      ]
     },
     "execution_count": 17,
     "metadata": {},
     "output_type": "execute_result"
    }
   ],
   "source": [
    "dataset['Genre'].unique()"
   ]
  },
  {
   "cell_type": "markdown",
   "id": "e85352c3",
   "metadata": {},
   "source": [
    "# What are the counts of those individual values?"
   ]
  },
  {
   "cell_type": "code",
   "execution_count": null,
   "id": "8c414071",
   "metadata": {},
   "outputs": [],
   "source": [
    "data[''].value_counts()"
   ]
  }
 ],
 "metadata": {
  "kernelspec": {
   "display_name": "Python 3 (ipykernel)",
   "language": "python",
   "name": "python3"
  },
  "language_info": {
   "codemirror_mode": {
    "name": "ipython",
    "version": 3
   },
   "file_extension": ".py",
   "mimetype": "text/x-python",
   "name": "python",
   "nbconvert_exporter": "python",
   "pygments_lexer": "ipython3",
   "version": "3.7.16"
  }
 },
 "nbformat": 4,
 "nbformat_minor": 5
}
